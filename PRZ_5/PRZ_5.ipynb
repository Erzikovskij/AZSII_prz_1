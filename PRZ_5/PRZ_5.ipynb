{
  "nbformat": 4,
  "nbformat_minor": 0,
  "metadata": {
    "colab": {
      "provenance": []
    },
    "kernelspec": {
      "name": "python3",
      "display_name": "Python 3"
    },
    "language_info": {
      "name": "python"
    }
  },
  "cells": [
    {
      "cell_type": "markdown",
      "source": [
        "Загрузка обученной модели и данных MNIST из предыдущей практики для дальнейшего анализа."
      ],
      "metadata": {
        "id": "T5S52naBCBFX"
      }
    },
    {
      "cell_type": "code",
      "execution_count": 8,
      "metadata": {
        "colab": {
          "base_uri": "https://localhost:8080/"
        },
        "id": "K7TIdEltANcb",
        "outputId": "cdfe3f5c-7018-4c10-b536-39438983859b"
      },
      "outputs": [
        {
          "output_type": "stream",
          "name": "stderr",
          "text": [
            "WARNING:absl:Compiled the loaded model, but the compiled metrics have yet to be built. `model.compile_metrics` will be empty until you train or evaluate the model.\n"
          ]
        },
        {
          "output_type": "stream",
          "name": "stdout",
          "text": [
            "\u001b[1m313/313\u001b[0m \u001b[32m━━━━━━━━━━━━━━━━━━━━\u001b[0m\u001b[37m\u001b[0m \u001b[1m2s\u001b[0m 4ms/step - accuracy: 0.9717 - loss: 0.1022\n",
            "Точность на обычных изображениях: 0.9750999808311462\n"
          ]
        }
      ],
      "source": [
        "import tensorflow as tf\n",
        "from tensorflow.keras.datasets import mnist\n",
        "from tensorflow.keras.utils import to_categorical\n",
        "\n",
        "# Загрузка тестовых данных MNIST\n",
        "(_, _), (test_images, test_labels) = mnist.load_data()\n",
        "# Нормализация данных\n",
        "test_images = test_images / 255.0\n",
        "# Преобразование меток в формат one-hot\n",
        "test_labels = to_categorical(test_labels, num_classes=10)\n",
        "# Загрузка обученной модели\n",
        "model = tf.keras.models.load_model('/content/mnist_model.h5')\n",
        "# Проверка точности модели на обычных данных\n",
        "test_loss, test_acc = model.evaluate(test_images, test_labels)\n",
        "print(f'Точность на обычных изображениях: {test_acc}')"
      ]
    },
    {
      "cell_type": "markdown",
      "source": [
        "Установка Foolbox:"
      ],
      "metadata": {
        "id": "rZxFAatqCIX8"
      }
    },
    {
      "cell_type": "code",
      "source": [
        "!pip install foolbox"
      ],
      "metadata": {
        "colab": {
          "base_uri": "https://localhost:8080/"
        },
        "id": "FSe-ddIMAxh_",
        "outputId": "8b21a07f-3a77-404d-e3a3-a5f0251f1bb2"
      },
      "execution_count": 9,
      "outputs": [
        {
          "output_type": "stream",
          "name": "stdout",
          "text": [
            "Requirement already satisfied: foolbox in /usr/local/lib/python3.11/dist-packages (3.3.4)\n",
            "Requirement already satisfied: numpy in /usr/local/lib/python3.11/dist-packages (from foolbox) (2.0.2)\n",
            "Requirement already satisfied: scipy in /usr/local/lib/python3.11/dist-packages (from foolbox) (1.14.1)\n",
            "Requirement already satisfied: setuptools in /usr/local/lib/python3.11/dist-packages (from foolbox) (75.1.0)\n",
            "Requirement already satisfied: eagerpy>=0.30.0 in /usr/local/lib/python3.11/dist-packages (from foolbox) (0.30.0)\n",
            "Requirement already satisfied: GitPython>=3.0.7 in /usr/local/lib/python3.11/dist-packages (from foolbox) (3.1.44)\n",
            "Requirement already satisfied: typing-extensions>=3.7.4.1 in /usr/local/lib/python3.11/dist-packages (from foolbox) (4.12.2)\n",
            "Requirement already satisfied: requests>=2.24.0 in /usr/local/lib/python3.11/dist-packages (from foolbox) (2.32.3)\n",
            "Requirement already satisfied: gitdb<5,>=4.0.1 in /usr/local/lib/python3.11/dist-packages (from GitPython>=3.0.7->foolbox) (4.0.12)\n",
            "Requirement already satisfied: charset-normalizer<4,>=2 in /usr/local/lib/python3.11/dist-packages (from requests>=2.24.0->foolbox) (3.4.1)\n",
            "Requirement already satisfied: idna<4,>=2.5 in /usr/local/lib/python3.11/dist-packages (from requests>=2.24.0->foolbox) (3.10)\n",
            "Requirement already satisfied: urllib3<3,>=1.21.1 in /usr/local/lib/python3.11/dist-packages (from requests>=2.24.0->foolbox) (2.3.0)\n",
            "Requirement already satisfied: certifi>=2017.4.17 in /usr/local/lib/python3.11/dist-packages (from requests>=2.24.0->foolbox) (2025.1.31)\n",
            "Requirement already satisfied: smmap<6,>=3.0.1 in /usr/local/lib/python3.11/dist-packages (from gitdb<5,>=4.0.1->GitPython>=3.0.7->foolbox) (5.0.2)\n"
          ]
        }
      ]
    },
    {
      "cell_type": "markdown",
      "source": [
        "Реализация атаки PGD с использованием Foolbox."
      ],
      "metadata": {
        "id": "aDwlYcrpCMNE"
      }
    },
    {
      "cell_type": "code",
      "source": [
        "import foolbox as fb\n",
        "import numpy as np\n",
        "import matplotlib.pyplot as plt\n",
        "import tensorflow as tf\n",
        "\n",
        "# Инициализация Foolbox модели\n",
        "fmodel = fb.TensorFlowModel(model, bounds=(0, 1))\n",
        "\n",
        "# Создание атаки DeepFool\n",
        "attack = fb.attacks.LinfPGD()\n",
        "\n",
        "# Выбор изображения для атаки (например, первое изображение из тестового набора)\n",
        "image = tf.convert_to_tensor(test_images[15], dtype=tf.float32)[None, ...]\n",
        "label = tf.convert_to_tensor(np.argmax(test_labels[0]), dtype=tf.int64)\n",
        "\n",
        "# Выполнение атаки\n",
        "adversarial_image, _, success = attack(fmodel, image, label[None], epsilons=0.05)\n",
        "\n",
        "# Вывод результатов\n",
        "plt.figure(figsize=(10, 5))\n",
        "plt.subplot(1, 2, 1)\n",
        "plt.title(\"Обычное изображение\")\n",
        "plt.imshow(image[0].numpy(), cmap=\"gray\")\n",
        "plt.axis('off')\n",
        "plt.subplot(1, 2, 2)\n",
        "plt.title(\"Projected Gradient Descent атака\")\n",
        "plt.imshow(adversarial_image[0].numpy(), cmap=\"gray\")\n",
        "plt.axis('off')\n",
        "\n",
        "plt.show()"
      ],
      "metadata": {
        "colab": {
          "base_uri": "https://localhost:8080/",
          "height": 342
        },
        "id": "xLcAMlD-AU4n",
        "outputId": "27ada012-ba41-436a-f161-7030d037ff7d"
      },
      "execution_count": 10,
      "outputs": [
        {
          "output_type": "display_data",
          "data": {
            "text/plain": [
              "<Figure size 1000x500 with 2 Axes>"
            ],
            "image/png": "[encoded data removed]"
          },
          "metadata": {}
        }
      ]
    },
    {
      "cell_type": "markdown",
      "source": [
        "Оценка модели на противоречивых примерах."
      ],
      "metadata": {
        "id": "jIg3CZORCRFM"
      }
    },
    {
      "cell_type": "code",
      "source": [
        "# Создание набора противоречивых примеров для всего тестового набора\n",
        "adversarial_images = []\n",
        "\n",
        "# Обработка изображений\n",
        "for i in range(len(test_images)):\n",
        "    image = tf.convert_to_tensor(test_images[i], dtype=tf.float32)[None, ...]\n",
        "    label = np.argmax(test_labels[i])\n",
        "    label = tf.convert_to_tensor(label, dtype=tf.int64)\n",
        "    advs, _, success = attack(fmodel, image, label[None], epsilons=0.05)\n",
        "    adversarial_images.append(advs)\n",
        "\n",
        "# Конвертация в массив\n",
        "adversarial_images = tf.concat(adversarial_images, axis=0)\n",
        "\n",
        "# Оценка точности модели на противоречивых примерах\n",
        "adversarial_loss, adversarial_acc = model.evaluate(adversarial_images, test_labels)\n",
        "print(f'Точность противоречивых примеров (PGD): {adversarial_acc}')"
      ],
      "metadata": {
        "colab": {
          "base_uri": "https://localhost:8080/"
        },
        "id": "IQXAfYNrAeyo",
        "outputId": "06f78a6a-dd32-40f9-f351-0d7ddecb0637"
      },
      "execution_count": 11,
      "outputs": [
        {
          "output_type": "stream",
          "name": "stdout",
          "text": [
            "\u001b[1m313/313\u001b[0m \u001b[32m━━━━━━━━━━━━━━━━━━━━\u001b[0m\u001b[37m\u001b[0m \u001b[1m1s\u001b[0m 2ms/step - accuracy: 0.4656 - loss: 1.9788\n",
            "Точность противоречивых примеров (PGD): 0.5263000130653381\n"
          ]
        }
      ]
    },
    {
      "cell_type": "code",
      "source": [
        "print(f'Точность на обычных изображениях: {test_acc}')\n",
        "print(f'Точность противоречивых примеров (PGD): {adversarial_acc}')"
      ],
      "metadata": {
        "colab": {
          "base_uri": "https://localhost:8080/"
        },
        "id": "yoKYQmqYAgHI",
        "outputId": "fb5dc82f-05fb-47eb-c95a-0671fcd61b55"
      },
      "execution_count": 12,
      "outputs": [
        {
          "output_type": "stream",
          "name": "stdout",
          "text": [
            "Точность на обычных изображениях: 0.9750999808311462\n",
            "Точность противоречивых примеров (PGD): 0.5263000130653381\n"
          ]
        }
      ]
    }
  ]
}