{
  "nbformat": 4,
  "nbformat_minor": 0,
  "metadata": {
    "colab": {
      "provenance": []
    },
    "kernelspec": {
      "name": "python3",
      "display_name": "Python 3"
    },
    "language_info": {
      "name": "python"
    }
  },
  "cells": [
    {
      "cell_type": "markdown",
      "source": [
        "Изучить методы защиты моделей ИИ от различных атак, включая методы защиты на уровне данных, моделирования и обучения."
      ],
      "metadata": {
        "id": "0_LEKeP6abQx"
      }
    },
    {
      "cell_type": "markdown",
      "source": [
        "Защита с помощью Adversarial Training."
      ],
      "metadata": {
        "id": "f4nrYQTJahjw"
      }
    },
    {
      "cell_type": "code",
      "execution_count": 1,
      "metadata": {
        "colab": {
          "base_uri": "https://localhost:8080/"
        },
        "id": "JlvVH0yMZ3jg",
        "outputId": "60bf3d4f-57f7-4156-9074-78d18aa2bf1b"
      },
      "outputs": [
        {
          "output_type": "stream",
          "name": "stdout",
          "text": [
            "Downloading data from https://storage.googleapis.com/tensorflow/tf-keras-datasets/mnist.npz\n",
            "\u001b[1m11490434/11490434\u001b[0m \u001b[32m━━━━━━━━━━━━━━━━━━━━\u001b[0m\u001b[37m\u001b[0m \u001b[1m0s\u001b[0m 0us/step\n"
          ]
        },
        {
          "output_type": "stream",
          "name": "stderr",
          "text": [
            "/usr/local/lib/python3.11/dist-packages/keras/src/layers/reshaping/flatten.py:37: UserWarning: Do not pass an `input_shape`/`input_dim` argument to a layer. When using Sequential models, prefer using an `Input(shape)` object as the first layer in the model instead.\n",
            "  super().__init__(**kwargs)\n",
            "WARNING:absl:You are saving your model as an HDF5 file via `model.save()` or `keras.saving.save_model(model)`. This file format is considered legacy. We recommend using instead the native Keras format, e.g. `model.save('my_model.keras')` or `keras.saving.save_model(model, 'my_model.keras')`. \n"
          ]
        }
      ],
      "source": [
        "import tensorflow as tf\n",
        "import numpy as np\n",
        "from tensorflow.keras.datasets import mnist\n",
        "\n",
        "# Загрузка данных MNIST\n",
        "(train_images, train_labels), (test_images, test_labels) = mnist.load_data()\n",
        "\n",
        "# Нормализация данных\n",
        "train_images = train_images / 255.0\n",
        "test_images = test_images / 255.0\n",
        "\n",
        "# Преобразование меток в one-hot encoding\n",
        "train_labels = tf.keras.utils.to_categorical(train_labels, 10)\n",
        "test_labels = tf.keras.utils.to_categorical(test_labels, 10)\n",
        "# ОЗУ не хватает для обучения на всех ~60 тысяч изображениях, я взял 5 тысяч\n",
        "train_images = train_images[:5000]\n",
        "train_labels = train_labels[:5000]\n",
        "\n",
        "# Функция FGSM атаки\n",
        "def fgsm_attack(image, epsilon, gradient):\n",
        "    perturbation = epsilon * np.sign(gradient)\n",
        "    adversarial_image = image + perturbation\n",
        "    adversarial_image = np.clip(adversarial_image, 0, 1)\n",
        "    return adversarial_image\n",
        "\n",
        "# Функция для генерации противоречивых примеров\n",
        "def generate_adversarial_examples(model, images, labels, epsilon):\n",
        "    adversarial_images = []\n",
        "    for i in range(len(images)):\n",
        "        image = tf.convert_to_tensor(images[i].reshape((1, 28, 28, 1)), dtype=tf.float32) # Конвертирует размер под формат модели\n",
        "        label = tf.convert_to_tensor(labels[i].reshape((1, 10)), dtype=tf.float32) # Конвертируем one-hot вектор в индекс\n",
        "\n",
        "        with tf.GradientTape() as tape:\n",
        "            tape.watch(image)\n",
        "            prediction = model(image)\n",
        "            loss = tf.keras.losses.categorical_crossentropy(label, prediction)\n",
        "\n",
        "        gradient = tape.gradient(loss, image)\n",
        "        adversarial_image = fgsm_attack(image.numpy(), epsilon, gradient.numpy())\n",
        "        adversarial_images.append(adversarial_image.reshape(28, 28))\n",
        "\n",
        "    return np.array(adversarial_images)\n",
        "\n",
        "# Создание модели\n",
        "def create_model():\n",
        "    model = tf.keras.Sequential([\n",
        "        tf.keras.layers.Flatten(input_shape=(28, 28)),\n",
        "        tf.keras.layers.Dense(128, activation='relu'),\n",
        "        tf.keras.layers.Dense(10, activation='softmax')\n",
        "    ])\n",
        "    model.compile(optimizer='adam', loss='categorical_crossentropy', metrics=['accuracy'])\n",
        "    return model\n",
        "\n",
        "# Обучение модели с противоречивыми примерами\n",
        "def adversarial_training(model, train_images, train_labels, epsilon):\n",
        "    for epoch in range(5):  # Короткое обучение для демонстрации\n",
        "        for i in range(0, len(train_images), 32):\n",
        "            batch_images = train_images[i:i+32]\n",
        "            batch_labels = train_labels[i:i+32]\n",
        "            adversarial_images = generate_adversarial_examples(model, batch_images, batch_labels, epsilon)\n",
        "            combined_images = np.concatenate([batch_images, adversarial_images], axis=0)\n",
        "            combined_labels = np.concatenate([batch_labels, batch_labels], axis=0)\n",
        "            model.train_on_batch(combined_images, combined_labels)\n",
        "\n",
        "# Инициализация модели\n",
        "model = create_model()\n",
        "\n",
        "# Тренировка модели с защитой на противоречивых примерах\n",
        "adversarial_training(model, train_images, train_labels, epsilon=0.1)\n",
        "\n",
        "# Сохранение защищенной модели\n",
        "model.save('adversarial_trained_model.h5')"
      ]
    },
    {
      "cell_type": "markdown",
      "source": [
        "Градиентная маскировка (Gradient Masking)."
      ],
      "metadata": {
        "id": "JAmmy7RoapiB"
      }
    },
    {
      "cell_type": "code",
      "source": [
        "# Реализация градиентной маскировки\n",
        "from tensorflow.keras.layers import Activation\n",
        "\n",
        "# Обновление модели для градиентной маскировки\n",
        "def create_masked_model():\n",
        "    model = tf.keras.Sequential([\n",
        "        tf.keras.layers.Flatten(input_shape=(28, 28)),\n",
        "        tf.keras.layers.Dense(128, activation='relu'),\n",
        "        tf.keras.layers.Dense(10),\n",
        "        Activation('softplus')  # Используем softplus вместо softmax для градиентной маскировки для затруднения доступа атакам к градиентам модели\n",
        "    ])\n",
        "    model.compile(optimizer='adam', loss='categorical_crossentropy', metrics=['accuracy'])\n",
        "    return model\n",
        "\n",
        "# Обучение модели с градиентной маскировкой\n",
        "masked_model = create_masked_model()\n",
        "masked_model.fit(train_images, train_labels, epochs=5)\n",
        "\n",
        "# Сохранение модели с градиентной маскировкой\n",
        "masked_model.save('masked_model.h5')"
      ],
      "metadata": {
        "colab": {
          "base_uri": "https://localhost:8080/"
        },
        "id": "RnXKXpISavXJ",
        "outputId": "b8b361a9-4eff-4dee-966e-682cbd7dc49b"
      },
      "execution_count": 2,
      "outputs": [
        {
          "output_type": "stream",
          "name": "stdout",
          "text": [
            "Epoch 1/5\n",
            "\u001b[1m157/157\u001b[0m \u001b[32m━━━━━━━━━━━━━━━━━━━━\u001b[0m\u001b[37m\u001b[0m \u001b[1m2s\u001b[0m 3ms/step - accuracy: 0.6677 - loss: 1.2595\n",
            "Epoch 2/5\n",
            "\u001b[1m157/157\u001b[0m \u001b[32m━━━━━━━━━━━━━━━━━━━━\u001b[0m\u001b[37m\u001b[0m \u001b[1m1s\u001b[0m 3ms/step - accuracy: 0.9170 - loss: 0.3134\n",
            "Epoch 3/5\n",
            "\u001b[1m157/157\u001b[0m \u001b[32m━━━━━━━━━━━━━━━━━━━━\u001b[0m\u001b[37m\u001b[0m \u001b[1m1s\u001b[0m 4ms/step - accuracy: 0.9370 - loss: 0.2392\n",
            "Epoch 4/5\n",
            "\u001b[1m157/157\u001b[0m \u001b[32m━━━━━━━━━━━━━━━━━━━━\u001b[0m\u001b[37m\u001b[0m \u001b[1m1s\u001b[0m 3ms/step - accuracy: 0.9468 - loss: 0.1871\n",
            "Epoch 5/5\n",
            "\u001b[1m157/157\u001b[0m \u001b[32m━━━━━━━━━━━━━━━━━━━━\u001b[0m\u001b[37m\u001b[0m \u001b[1m1s\u001b[0m 3ms/step - accuracy: 0.9606 - loss: 0.1458\n"
          ]
        },
        {
          "output_type": "stream",
          "name": "stderr",
          "text": [
            "WARNING:absl:You are saving your model as an HDF5 file via `model.save()` or `keras.saving.save_model(model)`. This file format is considered legacy. We recommend using instead the native Keras format, e.g. `model.save('my_model.keras')` or `keras.saving.save_model(model, 'my_model.keras')`. \n"
          ]
        }
      ]
    },
    {
      "cell_type": "markdown",
      "source": [
        "Регуляризация и нормализация для повышения устойчивости."
      ],
      "metadata": {
        "id": "CHwn-kMNa0J6"
      }
    },
    {
      "cell_type": "code",
      "source": [
        "# Модель с регуляризацией и нормализацией\n",
        "def create_regularized_model():\n",
        "    model = tf.keras.Sequential([\n",
        "        tf.keras.layers.Flatten(input_shape=(28, 28)),\n",
        "        tf.keras.layers.Dense(128, activation='relu',\n",
        "        kernel_regularizer=tf.keras.regularizers.l2(0.01)),\n",
        "        tf.keras.layers.Dropout(0.5),\n",
        "        tf.keras.layers.BatchNormalization(),\n",
        "        tf.keras.layers.Dense(10, activation='softmax')\n",
        "    ])\n",
        "    model.compile(optimizer='adam', loss='categorical_crossentropy', metrics=['accuracy'])\n",
        "    return model\n",
        "\n",
        "# Обучение модели с регуляризацией и нормализацией\n",
        "regularized_model = create_regularized_model()\n",
        "regularized_model.fit(train_images, train_labels, epochs=5)\n",
        "\n",
        "# Сохранение модели с регуляризацией\n",
        "regularized_model.save('regularized_model.h5')"
      ],
      "metadata": {
        "colab": {
          "base_uri": "https://localhost:8080/"
        },
        "id": "QiAK5lyea8Zy",
        "outputId": "a7823cf4-4935-4c16-e340-334223a47e06"
      },
      "execution_count": 3,
      "outputs": [
        {
          "output_type": "stream",
          "name": "stdout",
          "text": [
            "Epoch 1/5\n",
            "\u001b[1m157/157\u001b[0m \u001b[32m━━━━━━━━━━━━━━━━━━━━\u001b[0m\u001b[37m\u001b[0m \u001b[1m2s\u001b[0m 4ms/step - accuracy: 0.5473 - loss: 2.9441\n",
            "Epoch 2/5\n",
            "\u001b[1m157/157\u001b[0m \u001b[32m━━━━━━━━━━━━━━━━━━━━\u001b[0m\u001b[37m\u001b[0m \u001b[1m1s\u001b[0m 4ms/step - accuracy: 0.8485 - loss: 1.2538\n",
            "Epoch 3/5\n",
            "\u001b[1m157/157\u001b[0m \u001b[32m━━━━━━━━━━━━━━━━━━━━\u001b[0m\u001b[37m\u001b[0m \u001b[1m1s\u001b[0m 4ms/step - accuracy: 0.8861 - loss: 0.9026\n",
            "Epoch 4/5\n",
            "\u001b[1m157/157\u001b[0m \u001b[32m━━━━━━━━━━━━━━━━━━━━\u001b[0m\u001b[37m\u001b[0m \u001b[1m1s\u001b[0m 4ms/step - accuracy: 0.8976 - loss: 0.7601\n",
            "Epoch 5/5\n",
            "\u001b[1m157/157\u001b[0m \u001b[32m━━━━━━━━━━━━━━━━━━━━\u001b[0m\u001b[37m\u001b[0m \u001b[1m1s\u001b[0m 4ms/step - accuracy: 0.8906 - loss: 0.6723\n"
          ]
        },
        {
          "output_type": "stream",
          "name": "stderr",
          "text": [
            "WARNING:absl:You are saving your model as an HDF5 file via `model.save()` or `keras.saving.save_model(model)`. This file format is considered legacy. We recommend using instead the native Keras format, e.g. `model.save('my_model.keras')` or `keras.saving.save_model(model, 'my_model.keras')`. \n"
          ]
        }
      ]
    },
    {
      "cell_type": "markdown",
      "source": [
        "Оценка моделей на противоречивых примерах."
      ],
      "metadata": {
        "id": "4Y08oxUqbLgs"
      }
    },
    {
      "cell_type": "code",
      "source": [
        "# --- Оценка моделей на противоречивых примерах ---\n",
        "test_adversarial_images = generate_adversarial_examples(model, test_images, test_labels, epsilon=0.1)\n",
        "print(\"Оценка моделей на противоречивых примерах:\")\n",
        "\n",
        "print(\"Точность обученной модели:\")\n",
        "adv_model = tf.keras.models.load_model('/content/adversarial_trained_model.h5')\n",
        "adv_model.evaluate(test_adversarial_images, test_labels)\n",
        "\n",
        "print(\"Точность модели с градиетной маскировкой:\")\n",
        "masked_model = tf.keras.models.load_model('/content/masked_model.h5')\n",
        "masked_model.evaluate(test_adversarial_images, test_labels)\n",
        "\n",
        "print(\"Точность модели с регуляризацией и нормализацией:\")\n",
        "regularized_model = tf.keras.models.load_model('/content/regularized_model.h5')\n",
        "regularized_model.evaluate(test_adversarial_images, test_labels)"
      ],
      "metadata": {
        "colab": {
          "base_uri": "https://localhost:8080/"
        },
        "id": "Xf8nG7DLbMUR",
        "outputId": "ce44d472-afc3-4507-ddd8-90d42ae6bcf9"
      },
      "execution_count": 4,
      "outputs": [
        {
          "output_type": "stream",
          "name": "stderr",
          "text": [
            "WARNING:absl:Compiled the loaded model, but the compiled metrics have yet to be built. `model.compile_metrics` will be empty until you train or evaluate the model.\n"
          ]
        },
        {
          "output_type": "stream",
          "name": "stdout",
          "text": [
            "Оценка моделей на противоречивых примерах:\n",
            "Точность обученной модели:\n",
            "\u001b[1m313/313\u001b[0m \u001b[32m━━━━━━━━━━━━━━━━━━━━\u001b[0m\u001b[37m\u001b[0m \u001b[1m1s\u001b[0m 2ms/step - accuracy: 0.7160 - loss: 0.8635\n",
            "Точность модели с градиетной маскировкой:\n"
          ]
        },
        {
          "output_type": "stream",
          "name": "stderr",
          "text": [
            "WARNING:absl:Compiled the loaded model, but the compiled metrics have yet to be built. `model.compile_metrics` will be empty until you train or evaluate the model.\n"
          ]
        },
        {
          "output_type": "stream",
          "name": "stdout",
          "text": [
            "\u001b[1m313/313\u001b[0m \u001b[32m━━━━━━━━━━━━━━━━━━━━\u001b[0m\u001b[37m\u001b[0m \u001b[1m1s\u001b[0m 2ms/step - accuracy: 0.5449 - loss: 1.5057\n",
            "Точность модели с регуляризацией и нормализацией:\n"
          ]
        },
        {
          "output_type": "stream",
          "name": "stderr",
          "text": [
            "WARNING:absl:Compiled the loaded model, but the compiled metrics have yet to be built. `model.compile_metrics` will be empty until you train or evaluate the model.\n"
          ]
        },
        {
          "output_type": "stream",
          "name": "stdout",
          "text": [
            "\u001b[1m313/313\u001b[0m \u001b[32m━━━━━━━━━━━━━━━━━━━━\u001b[0m\u001b[37m\u001b[0m \u001b[1m1s\u001b[0m 2ms/step - accuracy: 0.6267 - loss: 1.4078\n"
          ]
        },
        {
          "output_type": "execute_result",
          "data": {
            "text/plain": [
              "[1.3073303699493408, 0.6639999747276306]"
            ]
          },
          "metadata": {},
          "execution_count": 4
        }
      ]
    },
    {
      "cell_type": "code",
      "source": [],
      "metadata": {
        "id": "OIPFizRpbPfS"
      },
      "execution_count": 4,
      "outputs": []
    }
  ]
}