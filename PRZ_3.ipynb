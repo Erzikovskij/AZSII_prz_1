{
  "cells": [
    {
      "cell_type": "markdown",
      "metadata": {
        "id": "view-in-github",
        "colab_type": "text"
      },
      "source": [
        "<a href=\"https://colab.research.google.com/github/Erzikovskij/Azsii/blob/main/PRZ_3.ipynb\" target=\"_parent\"><img src=\"https://colab.research.google.com/assets/colab-badge.svg\" alt=\"Open In Colab\"/></a>"
      ]
    },
    {
      "cell_type": "code",
      "execution_count": 9,
      "metadata": {
        "colab": {
          "base_uri": "https://localhost:8080/"
        },
        "id": "HD1hFyIuBH7S",
        "outputId": "78de18c0-9e66-4472-b328-08b25d3e422c"
      },
      "outputs": [
        {
          "output_type": "stream",
          "name": "stderr",
          "text": [
            "WARNING:absl:Compiled the loaded model, but the compiled metrics have yet to be built. `model.compile_metrics` will be empty until you train or evaluate the model.\n"
          ]
        },
        {
          "output_type": "stream",
          "name": "stdout",
          "text": [
            "\u001b[1m313/313\u001b[0m \u001b[32m━━━━━━━━━━━━━━━━━━━━\u001b[0m\u001b[37m\u001b[0m \u001b[1m1s\u001b[0m 2ms/step - accuracy: 0.9717 - loss: 0.1022\n",
            "Test accuracy on clean images: 0.9750999808311462\n"
          ]
        }
      ],
      "source": [
        "from typing import Any\n",
        "import tensorflow as tf\n",
        "from tensorflow.keras.datasets import mnist\n",
        "from tensorflow.keras.utils import to_categorical\n",
        "# Загрузка тестовых данных MNIST\n",
        "(_, _), (test_images, test_labels) = mnist.load_data()\n",
        "# Нормализация данных\n",
        "test_images = test_images / 255.0\n",
        "test_labels = to_categorical(test_labels, num_classes=10)\n",
        "# Загрузка обученной модели\n",
        "model = tf.keras.models.load_model('mnist_model.h5')\n",
        "# Проверка точности модели на обычных данных\n",
        "test_loss, test_acc = model.evaluate(test_images, test_labels)\n",
        "print(f'Test accuracy on clean images: {test_acc}')\n"
      ]
    },
    {
      "cell_type": "code",
      "execution_count": 10,
      "metadata": {
        "colab": {
          "base_uri": "https://localhost:8080/"
        },
        "id": "LN6YGHR-BiNq",
        "outputId": "1a591474-047b-4fa4-f6d5-d2f2b5f5265c"
      },
      "outputs": [
        {
          "output_type": "stream",
          "name": "stdout",
          "text": [
            "Requirement already satisfied: foolbox in /usr/local/lib/python3.11/dist-packages (3.3.4)\n",
            "Requirement already satisfied: numpy in /usr/local/lib/python3.11/dist-packages (from foolbox) (2.0.2)\n",
            "Requirement already satisfied: scipy in /usr/local/lib/python3.11/dist-packages (from foolbox) (1.14.1)\n",
            "Requirement already satisfied: setuptools in /usr/local/lib/python3.11/dist-packages (from foolbox) (75.1.0)\n",
            "Requirement already satisfied: eagerpy>=0.30.0 in /usr/local/lib/python3.11/dist-packages (from foolbox) (0.30.0)\n",
            "Requirement already satisfied: GitPython>=3.0.7 in /usr/local/lib/python3.11/dist-packages (from foolbox) (3.1.44)\n",
            "Requirement already satisfied: typing-extensions>=3.7.4.1 in /usr/local/lib/python3.11/dist-packages (from foolbox) (4.12.2)\n",
            "Requirement already satisfied: requests>=2.24.0 in /usr/local/lib/python3.11/dist-packages (from foolbox) (2.32.3)\n",
            "Requirement already satisfied: gitdb<5,>=4.0.1 in /usr/local/lib/python3.11/dist-packages (from GitPython>=3.0.7->foolbox) (4.0.12)\n",
            "Requirement already satisfied: charset-normalizer<4,>=2 in /usr/local/lib/python3.11/dist-packages (from requests>=2.24.0->foolbox) (3.4.1)\n",
            "Requirement already satisfied: idna<4,>=2.5 in /usr/local/lib/python3.11/dist-packages (from requests>=2.24.0->foolbox) (3.10)\n",
            "Requirement already satisfied: urllib3<3,>=1.21.1 in /usr/local/lib/python3.11/dist-packages (from requests>=2.24.0->foolbox) (2.3.0)\n",
            "Requirement already satisfied: certifi>=2017.4.17 in /usr/local/lib/python3.11/dist-packages (from requests>=2.24.0->foolbox) (2025.1.31)\n",
            "Requirement already satisfied: smmap<6,>=3.0.1 in /usr/local/lib/python3.11/dist-packages (from gitdb<5,>=4.0.1->GitPython>=3.0.7->foolbox) (5.0.2)\n"
          ]
        }
      ],
      "source": [
        "!pip install foolbox"
      ]
    },
    {
      "cell_type": "code",
      "execution_count": 11,
      "metadata": {
        "colab": {
          "base_uri": "https://localhost:8080/",
          "height": 284
        },
        "id": "0297mHZWCHTj",
        "outputId": "61c44978-f776-44e9-b860-d1f6105cadab"
      },
      "outputs": [
        {
          "output_type": "display_data",
          "data": {
            "text/plain": [
              "<Figure size 640x480 with 2 Axes>"
            ],
            "image/png": "[encoded data removed]"
          },
          "metadata": {}
        }
      ],
      "source": [
        "import foolbox as fb\n",
        "import numpy as np\n",
        "\n",
        "# Инициализация Foolbox модели\n",
        "fmodel = fb.TensorFlowModel(model, bounds=(0, 1))\n",
        "\n",
        "# Конвертация и выборка\n",
        "image = tf.convert_to_tensor(test_images[37], dtype=tf.float32)[None, ...]\n",
        "label = np.argmax(test_labels[0]) # Получаем индекс класса\n",
        "label = tf.convert_to_tensor(label, dtype=tf.int64) # Конвертируем в тензор\n",
        "\n",
        "# Создание и выполнение Carlini-Wagner атаки\n",
        "attack = fb.attacks.L2CarliniWagnerAttack(steps = 100)\n",
        "adversarial_image = attack(fmodel, image, label[None], epsilons=0.1)\n",
        "\n",
        "# Вывод результатов\n",
        "import matplotlib.pyplot as plt\n",
        "plt.subplot(1, 2, 1)\n",
        "plt.title(\"Оригинал\")\n",
        "plt.imshow(image[0].numpy(), cmap=\"gray\")\n",
        "plt.axis('off')\n",
        "plt.subplot(1, 2, 2)\n",
        "plt.title(\"CW Attack\")\n",
        "plt.imshow(adversarial_image[0][0].numpy(), cmap=\"gray\")\n",
        "plt.axis('off')\n",
        "plt.show()"
      ]
    },
    {
      "cell_type": "code",
      "execution_count": 12,
      "metadata": {
        "colab": {
          "base_uri": "https://localhost:8080/"
        },
        "id": "FsjmK1RRCMZF",
        "outputId": "c1b596d9-2845-4262-d206-9209696cd09e"
      },
      "outputs": [
        {
          "output_type": "stream",
          "name": "stdout",
          "text": [
            "\u001b[1m32/32\u001b[0m \u001b[32m━━━━━━━━━━━━━━━━━━━━\u001b[0m\u001b[37m\u001b[0m \u001b[1m0s\u001b[0m 4ms/step - accuracy: 0.0286 - loss: 1.2550\n",
            "Accuracy on adversarial examples (CW attack): 0.02800000086426735\n"
          ]
        }
      ],
      "source": [
        "# Создание набора противоречивых примеров для всего тестового набора\n",
        "adversarial_images = []\n",
        "batch_size = 10\n",
        "\n",
        "# Обработка изображений пакетами\n",
        "for i in range(0, len(test_images) // 10, batch_size):\n",
        "\n",
        "    # Создаем пакет изображений и меток\n",
        "    batch_images = tf.convert_to_tensor(test_images[i:i + batch_size], dtype=tf.float32)\n",
        "    batch_labels = np.argmax(test_labels[i:i + batch_size], axis=1)\n",
        "    batch_labels = tf.convert_to_tensor(batch_labels, dtype=tf.int64)\n",
        "\n",
        "    # Проверка размерности\n",
        "    advs, _, success = attack(fmodel, batch_images, batch_labels, epsilons=0.1)\n",
        "    adversarial_images.append(advs)\n",
        "\n",
        "# Конвертация списка в массив с правильной формой\n",
        "adversarial_images = tf.concat(adversarial_images, axis=0)\n",
        "\n",
        "# Оценка точности модели на противоречивых примерах\n",
        "adversarial_loss, adversarial_acc = model.evaluate(adversarial_images, test_labels[:len(adversarial_images)])\n",
        "print(f'Accuracy on adversarial examples (CW attack): {adversarial_acc}')"
      ]
    },
    {
      "cell_type": "code",
      "execution_count": 13,
      "metadata": {
        "colab": {
          "base_uri": "https://localhost:8080/"
        },
        "id": "Hzi9Rzg2CSXH",
        "outputId": "fe6414e1-570f-4c1b-864e-349bffb57920"
      },
      "outputs": [
        {
          "output_type": "stream",
          "name": "stdout",
          "text": [
            "Test accuracy on clean images: 0.9750999808311462\n",
            "Accuracy on adversarial examples (CW attack): 0.02800000086426735\n"
          ]
        }
      ],
      "source": [
        "print(f'Test accuracy on clean images: {test_acc:}')\n",
        "print(f'Accuracy on adversarial examples (CW attack): {adversarial_acc:}')"
      ]
    }
  ],
  "metadata": {
    "colab": {
      "provenance": [],
      "authorship_tag": "ABX9TyMmyKc5nmlS1Ck2MWeWwSHb",
      "include_colab_link": true
    },
    "kernelspec": {
      "display_name": "Python 3",
      "name": "python3"
    },
    "language_info": {
      "name": "python"
    }
  },
  "nbformat": 4,
  "nbformat_minor": 0
}